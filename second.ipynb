{
 "cells": [
  {
   "cell_type": "code",
   "execution_count": 1,
   "metadata": {},
   "outputs": [],
   "source": [
    "import sqlite3"
   ]
  },
  {
   "cell_type": "code",
   "execution_count": 2,
   "metadata": {},
   "outputs": [],
   "source": [
    "conn = sqlite3.connect(\"test.db\")"
   ]
  },
  {
   "cell_type": "code",
   "execution_count": 3,
   "metadata": {},
   "outputs": [],
   "source": [
    "c = conn.cursor()"
   ]
  },
  {
   "cell_type": "code",
   "execution_count": 4,
   "metadata": {},
   "outputs": [
    {
     "data": {
      "text/plain": [
       "<sqlite3.Cursor at 0x171afa6b840>"
      ]
     },
     "execution_count": 4,
     "metadata": {},
     "output_type": "execute_result"
    }
   ],
   "source": [
    "ct = \"CREATE TABLE record1(ID INTEGER, Name TEXT, Fee REAL)\"\n",
    "conn.execute(ct)"
   ]
  },
  {
   "cell_type": "code",
   "execution_count": 5,
   "metadata": {},
   "outputs": [],
   "source": [
    "ct = \"insert into record1(ID, Name,Fee) values(1,'Pawan',300000)\"\n",
    "conn.execute(ct)\n",
    "conn.commit()"
   ]
  },
  {
   "cell_type": "code",
   "execution_count": 6,
   "metadata": {},
   "outputs": [
    {
     "name": "stdout",
     "output_type": "stream",
     "text": [
      "<sqlite3.Cursor object at 0x00000171AFA6B640>\n"
     ]
    }
   ],
   "source": [
    "result = conn.execute(ct)\n",
    "print(result)"
   ]
  },
  {
   "cell_type": "code",
   "execution_count": 7,
   "metadata": {},
   "outputs": [],
   "source": [
    "for row in result:\n",
    "    print(row)"
   ]
  },
  {
   "cell_type": "markdown",
   "metadata": {},
   "source": []
  },
  {
   "cell_type": "code",
   "execution_count": 8,
   "metadata": {},
   "outputs": [],
   "source": [
    "all_stu = [(2,'Punam',300000.66),\n",
    "           (3,'Tarun',100.66)\n",
    "]\n",
    "conn.commit()\n",
    "result = conn.executemany(\"insert into record1 values(?,?,?)\",all_stu)"
   ]
  },
  {
   "cell_type": "code",
   "execution_count": 9,
   "metadata": {},
   "outputs": [],
   "source": [
    "ct = \"select * from record1\"\n",
    "r = conn.execute(ct)\n",
    "\n",
    "for row in result:\n",
    "    ID,Name,Fee = row\n",
    "    print(len(row))"
   ]
  },
  {
   "cell_type": "code",
   "execution_count": 10,
   "metadata": {},
   "outputs": [],
   "source": [
    "command = \"select * from record1 where fee = 10000.66\"\n",
    "conn.execute(command)\n",
    "\n",
    "result = conn.execute(command)\n",
    "r = result.fetchall()\n",
    "for row in result:\n",
    "    ID,Name,Fee = row\n",
    "    print(ID,Name,Fee)"
   ]
  },
  {
   "cell_type": "code",
   "execution_count": 15,
   "metadata": {},
   "outputs": [
    {
     "name": "stdout",
     "output_type": "stream",
     "text": [
      "Total change 7\n",
      "1 Pawan 300000.0\n",
      "1 Pawan 300000.0\n"
     ]
    }
   ],
   "source": [
    "command = \"update record1 set fee = 500.66 where ID = 3\"\n",
    "result = conn.execute(command)\n",
    "conn.commit()\n",
    "\n",
    "print(\"Total change\",conn.total_changes)\n",
    "command  = \"select * from record1\"\n",
    "result = conn.execute(command)\n",
    "for row in result:\n",
    "    ID,Name,Fee = row\n",
    "    print(ID,Name,Fee)"
   ]
  },
  {
   "cell_type": "code",
   "execution_count": 13,
   "metadata": {},
   "outputs": [
    {
     "name": "stdout",
     "output_type": "stream",
     "text": [
      "1 Pawan 300000.0\n",
      "1 Pawan 300000.0\n"
     ]
    }
   ],
   "source": [
    "command = \"delete from record1 where ID = 2\"\n",
    "result = conn.execute(command)\n",
    "conn.commit()\n",
    "\n",
    "command  = \"select * from record1\"\n",
    "result = conn.execute(command)\n",
    "for row in result:\n",
    "    ID,Name,Fee = row\n",
    "    print(ID,Name,Fee)"
   ]
  },
  {
   "cell_type": "code",
   "execution_count": 25,
   "metadata": {},
   "outputs": [
    {
     "data": {
      "text/plain": [
       "<sqlite3.Cursor at 0x171affef840>"
      ]
     },
     "execution_count": 25,
     "metadata": {},
     "output_type": "execute_result"
    }
   ],
   "source": [
    "ct=\"create table record2(ID INTEGER, Name TEXT, Fee REAL)\"\n",
    "conn.execute(ct)"
   ]
  },
  {
   "cell_type": "code",
   "execution_count": 26,
   "metadata": {},
   "outputs": [],
   "source": [
    "ct=\"insert into record2(ID,Name,Fee)Values(1,'Aryan',1000.66)\"\n",
    "conn.execute(ct)\n",
    "conn.commit()"
   ]
  },
  {
   "cell_type": "code",
   "execution_count": 27,
   "metadata": {},
   "outputs": [
    {
     "name": "stdout",
     "output_type": "stream",
     "text": [
      "(1, 'Aryan', 1000.66)\n"
     ]
    }
   ],
   "source": [
    "ct='select * from record2'\n",
    "conn.execute(ct)\n",
    "for i in conn.execute(ct):\n",
    "    print(i)"
   ]
  },
  {
   "cell_type": "code",
   "execution_count": 28,
   "metadata": {},
   "outputs": [],
   "source": [
    "cmd=\"drop table record2\"\n",
    "conn.execute(cmd)\n",
    "conn.commit()"
   ]
  },
  {
   "cell_type": "code",
   "execution_count": 32,
   "metadata": {},
   "outputs": [],
   "source": [
    "import os"
   ]
  }
 ],
 "metadata": {
  "kernelspec": {
   "display_name": "Python 3",
   "language": "python",
   "name": "python3"
  },
  "language_info": {
   "codemirror_mode": {
    "name": "ipython",
    "version": 3
   },
   "file_extension": ".py",
   "mimetype": "text/x-python",
   "name": "python",
   "nbconvert_exporter": "python",
   "pygments_lexer": "ipython3",
   "version": "3.11.1"
  }
 },
 "nbformat": 4,
 "nbformat_minor": 2
}
