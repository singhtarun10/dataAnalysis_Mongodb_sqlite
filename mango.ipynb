{
 "cells": [
  {
   "cell_type": "code",
   "execution_count": 7,
   "metadata": {},
   "outputs": [],
   "source": [
    "import pymongo\n",
    "#connection to mongodb\n",
    "client = pymongo.MongoClient('mongodb://localhost:27017/')\n",
    "mydb = client['emp']\n",
    "info=mydb.empinformation"
   ]
  },
  {
   "cell_type": "code",
   "execution_count": 8,
   "metadata": {},
   "outputs": [
    {
     "data": {
      "text/plain": [
       "InsertOneResult(ObjectId('65c1cd70eae6c9576d2f935a'), acknowledged=True)"
      ]
     },
     "execution_count": 8,
     "metadata": {},
     "output_type": "execute_result"
    }
   ],
   "source": [
    "record={\n",
    "    'name':'tarun',\n",
    "    'dept':'AI',\n",
    "    'degree':'cse',\n",
    "    'age': 22\n",
    "}\n",
    "info.insert_one(record)"
   ]
  },
  {
   "cell_type": "code",
   "execution_count": 9,
   "metadata": {},
   "outputs": [],
   "source": [
    "#to find the data\n",
    "use = info.find()"
   ]
  },
  {
   "cell_type": "code",
   "execution_count": 10,
   "metadata": {},
   "outputs": [
    {
     "name": "stdout",
     "output_type": "stream",
     "text": [
      "{'_id': ObjectId('65c1cd70eae6c9576d2f935a'), 'name': 'tarun', 'dept': 'AI', 'degree': 'cse', 'age': 22}\n"
     ]
    }
   ],
   "source": [
    "for record in use:\n",
    "    print(record)"
   ]
  },
  {
   "cell_type": "code",
   "execution_count": 11,
   "metadata": {},
   "outputs": [
    {
     "data": {
      "text/plain": [
       "InsertManyResult([ObjectId('65c1cd70eae6c9576d2f935b'), ObjectId('65c1cd70eae6c9576d2f935c'), ObjectId('65c1cd70eae6c9576d2f935d')], acknowledged=True)"
      ]
     },
     "execution_count": 11,
     "metadata": {},
     "output_type": "execute_result"
    }
   ],
   "source": [
    "records = [\n",
    "    {\n",
    "        'name': 'John',\n",
    "        'dept': 'HR',\n",
    "        'degree': 'MBA',\n",
    "        'age': 30\n",
    "    },\n",
    "    {\n",
    "        'name': 'Emma',\n",
    "        'dept': 'Finance',\n",
    "        'degree': 'B.Com',\n",
    "        'age': 28\n",
    "    },\n",
    "    {\n",
    "        'name': 'Michael',\n",
    "        'dept': 'IT',\n",
    "        'degree': 'B.Tech',\n",
    "        'age': 32\n",
    "    }\n",
    "]\n",
    "info.insert_many(records)"
   ]
  },
  {
   "cell_type": "code",
   "execution_count": 12,
   "metadata": {},
   "outputs": [
    {
     "name": "stdout",
     "output_type": "stream",
     "text": [
      "{'_id': ObjectId('65c1cd70eae6c9576d2f935a'), 'name': 'tarun', 'dept': 'AI', 'degree': 'cse', 'age': 22}\n",
      "{'_id': ObjectId('65c1cd70eae6c9576d2f935b'), 'name': 'John', 'dept': 'HR', 'degree': 'MBA', 'age': 30}\n",
      "{'_id': ObjectId('65c1cd70eae6c9576d2f935c'), 'name': 'Emma', 'dept': 'Finance', 'degree': 'B.Com', 'age': 28}\n",
      "{'_id': ObjectId('65c1cd70eae6c9576d2f935d'), 'name': 'Michael', 'dept': 'IT', 'degree': 'B.Tech', 'age': 32}\n"
     ]
    }
   ],
   "source": [
    "for i in info.find():\n",
    "    print(i)"
   ]
  },
  {
   "cell_type": "code",
   "execution_count": 13,
   "metadata": {},
   "outputs": [
    {
     "data": {
      "text/plain": [
       "{'_id': ObjectId('65c1cd70eae6c9576d2f935a'),\n",
       " 'name': 'tarun',\n",
       " 'dept': 'AI',\n",
       " 'degree': 'cse',\n",
       " 'age': 22}"
      ]
     },
     "execution_count": 13,
     "metadata": {},
     "output_type": "execute_result"
    }
   ],
   "source": [
    "#by default it will return the first record\n",
    "info.find_one()"
   ]
  },
  {
   "cell_type": "code",
   "execution_count": 14,
   "metadata": {},
   "outputs": [
    {
     "name": "stdout",
     "output_type": "stream",
     "text": [
      "{'_id': ObjectId('65c1cd70eae6c9576d2f935b'), 'name': 'John', 'dept': 'HR', 'degree': 'MBA', 'age': 30}\n",
      "{'_id': ObjectId('65c1cd70eae6c9576d2f935c'), 'name': 'Emma', 'dept': 'Finance', 'degree': 'B.Com', 'age': 28}\n"
     ]
    }
   ],
   "source": [
    "# Query documents using $in operator\n",
    "query = {'age': {'$in': [25, 30]}}\n",
    "result = info.find(query)\n",
    "for record in result:\n",
    "    print(record)\n",
    "\n",
    "# Query documents using $lt and $gt operators\n",
    "query = {'age': {'$lt': 30, '$gt': 25}}\n",
    "result = info.find(query)\n",
    "for record in result:\n",
    "    print(record)\n"
   ]
  },
  {
   "cell_type": "code",
   "execution_count": 16,
   "metadata": {},
   "outputs": [
    {
     "name": "stdout",
     "output_type": "stream",
     "text": [
      "{'_id': ObjectId('65c1cd70eae6c9576d2f935a'), 'name': 'tarun', 'dept': 'AI', 'degree': 'cse', 'age': 22}\n",
      "{'_id': ObjectId('65c1cd70eae6c9576d2f935c'), 'name': 'Emma', 'dept': 'Finance', 'degree': 'B.Com', 'age': 28}\n"
     ]
    }
   ],
   "source": [
    "# Query documents using $and operator\n",
    "query_and = {'$and': [{'age': {'$gt': 25}}, {'dept': 'AI'}]}\n",
    "result_and = info.find(query_and)\n",
    "for record in result_and:\n",
    "    print(record)\n",
    "\n",
    "# Query documents using $or operator\n",
    "query_or = {'$or': [{'age': {'$lt': 30}}, {'dept': 'Finance'}]}\n",
    "result_or = info.find(query_or)\n",
    "for record in result_or:\n",
    "    print(record)\n"
   ]
  },
  {
   "cell_type": "markdown",
   "metadata": {},
   "source": [
    "NEW COLLECTION INVENTORY"
   ]
  },
  {
   "cell_type": "code",
   "execution_count": 17,
   "metadata": {},
   "outputs": [],
   "source": [
    "import pymongo\n",
    "#connection to mongodb\n",
    "client = pymongo.MongoClient('mongodb://localhost:27017/')\n",
    "mydb = client['emp']\n",
    "inventory=mydb.inventory"
   ]
  },
  {
   "cell_type": "code",
   "execution_count": 18,
   "metadata": {},
   "outputs": [
    {
     "data": {
      "text/plain": [
       "InsertManyResult([ObjectId('65c1d071eae6c9576d2f935f'), ObjectId('65c1d071eae6c9576d2f9360'), ObjectId('65c1d071eae6c9576d2f9361'), ObjectId('65c1d071eae6c9576d2f9362'), ObjectId('65c1d071eae6c9576d2f9363'), ObjectId('65c1d071eae6c9576d2f9364'), ObjectId('65c1d071eae6c9576d2f9365'), ObjectId('65c1d071eae6c9576d2f9366'), ObjectId('65c1d071eae6c9576d2f9367'), ObjectId('65c1d071eae6c9576d2f9368')], acknowledged=True)"
      ]
     },
     "execution_count": 18,
     "metadata": {},
     "output_type": "execute_result"
    }
   ],
   "source": [
    "inventory.insert_many([\n",
    "    {\"item\": \"canvas\",\n",
    "     \"qty\": 100,\n",
    "     \"size\": {\"h\": 28, \"w\": 35.5, \"uom\": \"cm\"},\n",
    "     \"status\": \"A\"},\n",
    "    {\"item\": \"journal\",\n",
    "     \"qty\": 25,\n",
    "     \"size\": {\"h\": 14, \"w\": 21, \"uom\": \"cm\"},\n",
    "     \"status\": \"A\"},\n",
    "    {\"item\": \"mat\",\n",
    "     \"qty\": 85,\n",
    "     \"size\": {\"h\": 27.9, \"w\": 35.5, \"uom\": \"cm\"},\n",
    "     \"status\": \"A\"},\n",
    "    {\"item\": \"mousepad\",\n",
    "     \"qty\": 25,\n",
    "     \"size\": {\"h\": 19, \"w\": 22.85, \"uom\": \"cm\"},\n",
    "     \"status\": \"P\"},\n",
    "    {\"item\": \"notebook\",\n",
    "     \"qty\": 50,\n",
    "     \"size\": {\"h\": 8.5, \"w\": 11, \"uom\": \"in\"},\n",
    "     \"status\": \"P\"},\n",
    "    {\"item\": \"paper\",\n",
    "     \"qty\": 100,\n",
    "     \"size\": {\"h\": 8.5, \"w\": 11, \"uom\": \"in\"},\n",
    "     \"status\": \"D\"},\n",
    "    {\"item\": \"planner\",\n",
    "     \"qty\": 75,\n",
    "     \"size\": {\"h\": 22.85, \"w\": 30, \"uom\": \"cm\"},\n",
    "     \"status\": \"D\"},\n",
    "    {\"item\": \"postcard\",\n",
    "     \"qty\": 45,\n",
    "     \"size\": {\"h\": 10, \"w\": 15.25, \"uom\": \"cm\"},\n",
    "     \"status\": \"A\"},\n",
    "    {\"item\": \"sketchbook\",\n",
    "     \"qty\": 80,\n",
    "     \"size\": {\"h\": 14, \"w\": 21, \"uom\": \"cm\"},\n",
    "     \"status\": \"A\"},\n",
    "    {\"item\": \"sketch pad\",\n",
    "     \"qty\": 95,\n",
    "     \"size\": {\"h\": 22.85, \"w\": 30.5, \"uom\": \"cm\"},\n",
    "     \"status\": \"A\"}])"
   ]
  },
  {
   "cell_type": "code",
   "execution_count": 23,
   "metadata": {},
   "outputs": [
    {
     "data": {
      "text/plain": [
       "UpdateResult({'n': 1, 'nModified': 1, 'ok': 1.0, 'updatedExisting': True}, acknowledged=True)"
      ]
     },
     "execution_count": 23,
     "metadata": {},
     "output_type": "execute_result"
    }
   ],
   "source": [
    "#update one\n",
    "inventory.update_one(\n",
    "    {'item': 'sketch pad'},\n",
    "    {\"$set\":{\"size.uom\": \"m\", \"status\": \"P\"},\n",
    "    \"$currentDate\": {\"lastModified\": True}}\n",
    ")\n"
   ]
  },
  {
   "cell_type": "code",
   "execution_count": 24,
   "metadata": {},
   "outputs": [
    {
     "data": {
      "text/plain": [
       "UpdateResult({'n': 1, 'nModified': 1, 'ok': 1.0, 'updatedExisting': True}, acknowledged=True)"
      ]
     },
     "execution_count": 24,
     "metadata": {},
     "output_type": "execute_result"
    }
   ],
   "source": [
    "#replace record\n",
    "inventory.replace_one(\n",
    "    {'item': 'paper'},\n",
    "    {'item': 'paper', 'instock': [{'warehouse': 'A', 'qty': 60}, {'warehouse': 'B', 'qty': 40}]}\n",
    ")"
   ]
  },
  {
   "cell_type": "markdown",
   "metadata": {},
   "source": [
    "Aggregate"
   ]
  },
  {
   "cell_type": "code",
   "execution_count": 25,
   "metadata": {},
   "outputs": [],
   "source": [
    "from pymongo import MongoClient"
   ]
  },
  {
   "cell_type": "code",
   "execution_count": 26,
   "metadata": {},
   "outputs": [
    {
     "data": {
      "text/plain": [
       "InsertManyResult([ObjectId('65c1d70beae6c9576d2f9369'), ObjectId('65c1d70beae6c9576d2f936a'), ObjectId('65c1d70beae6c9576d2f936b'), ObjectId('65c1d70beae6c9576d2f936c'), ObjectId('65c1d70beae6c9576d2f936d'), ObjectId('65c1d70beae6c9576d2f936e')], acknowledged=True)"
      ]
     },
     "execution_count": 26,
     "metadata": {},
     "output_type": "execute_result"
    }
   ],
   "source": [
    "mydatabase = client['Students']  \n",
    "    \n",
    "# Access collection of the database  \n",
    "collection=mydatabase['studentscores']  \n",
    "data = [ \n",
    "    {\"user\":\"Krish\", \"subject\":\"Database\", \"score\":80, \"ts\":2}, \n",
    "    {\"user\":\"Amit\",  \"subject\":\"JavaScript\", \"score\":90, \"ts\":3}, \n",
    "    {\"user\":\"Amit\",  \"title\":\"Database\", \"score\":85, \"ts\":5}, \n",
    "    {\"user\":\"Krish\",  \"title\":\"JavaScript\", \"score\":75, \"ts\":8}, \n",
    "    {\"user\":\"Amit\",  \"title\":\"Data Science\", \"score\":60, \"ts\":10},\n",
    "    {\"user\":\"Krish\",  \"title\":\"Data Science\", \"score\":95, \"ts\":3}] \n",
    "  \n",
    "collection.insert_many(data)"
   ]
  },
  {
   "cell_type": "code",
   "execution_count": 28,
   "metadata": {},
   "outputs": [
    {
     "name": "stdout",
     "output_type": "stream",
     "text": [
      "{'_id': 'Krish', 'total_subjects': 3}\n",
      "{'_id': 'Amit', 'total_subjects': 3}\n"
     ]
    }
   ],
   "source": [
    "#total subjects\n",
    "pipeline = [\n",
    "   \n",
    "    {'$group': {'_id': '$user', 'total_subjects': {'$sum': 1}}}\n",
    "]\n",
    "\n",
    "result = collection.aggregate(pipeline)\n",
    "\n",
    "for record in result:\n",
    "    print(record)\n"
   ]
  },
  {
   "cell_type": "code",
   "execution_count": null,
   "metadata": {},
   "outputs": [],
   "source": []
  }
 ],
 "metadata": {
  "kernelspec": {
   "display_name": "Python 3",
   "language": "python",
   "name": "python3"
  },
  "language_info": {
   "codemirror_mode": {
    "name": "ipython",
    "version": 3
   },
   "file_extension": ".py",
   "mimetype": "text/x-python",
   "name": "python",
   "nbconvert_exporter": "python",
   "pygments_lexer": "ipython3",
   "version": "3.11.1"
  }
 },
 "nbformat": 4,
 "nbformat_minor": 2
}
